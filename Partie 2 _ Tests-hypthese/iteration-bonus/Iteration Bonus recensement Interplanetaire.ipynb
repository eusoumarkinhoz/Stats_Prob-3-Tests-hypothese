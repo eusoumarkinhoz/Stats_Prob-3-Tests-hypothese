{
 "cells": [
  {
   "cell_type": "markdown",
   "id": "54ac9174-0b5b-4ff1-b28d-fb3aced74605",
   "metadata": {},
   "source": [
    "# L'exo Bonus\n",
    "\n",
    "Nous sommes en 2237. L'ensemble du système solaire est désormais occupé par l'humanité (on suppose donc que par miracle l'humanité s'est enfin bougée pour limiter le changement climatique et qu'on a survécu... puis qu'on a résolu le problème des radiations, du voyage et de la terraformation, bref un futur à pvalue très faible :)\n",
    "\n",
    "Vous êtes un(e) valeureux(se) membre de l'IIR (Institut Interplanétaire de Recensement).\n",
    "Vous venez de recevoir les derniers chiffres d'un sondage des tailles des individus sur les différentes planètes du système et vous devez faire votre rapport.\n",
    "\n",
    "### Les données :\n",
    "Le dataframe iir_recensement_2237 contient une mesure par habitant sondé, avec sa planète d'origine, la gravité sur sa planète (g en m/s-2), la distance de sa planète au soleil (Millions de km), la taille de l'habitant (cm) et sa localisation (hemisphere N ou S). 1000 personnes par planète ont été mesurées.\n",
    "\n",
    "### Les pistes de références : \n",
    "\n",
    "https://www.kaggle.com/jgroff/unit-3-hypothesis-testing\n",
    "\n",
    "https://www.kaggle.com/hamelg/python-for-data-26-anova\n",
    "\n",
    "https://www.marsja.se/four-ways-to-conduct-one-way-anovas-using-python/\n",
    "\n",
    "https://www.kaggle.com/hamelg/python-for-data-27-linear-regression\n"
   ]
  },
  {
   "cell_type": "markdown",
   "id": "dde6ee2f-e5cc-47a0-b252-9c2b62f1c235",
   "metadata": {},
   "source": [
    "### 0. Validation du cadre d'hypothèse\n",
    "\n",
    "Pour pouvoir utiliser des outils comme l'ANOVA, il faut que les données respectent certaines hypothèses. Retrouver quelles sont les 3 principales hypothèses et tester celle qui vous parait la plus simple à vérifier."
   ]
  },
  {
   "cell_type": "markdown",
   "id": "ede091aa-15d9-41a0-9d3d-2c1ea0f7a176",
   "metadata": {},
   "source": [
    "### 1. Vivre la tête en bas est-ce bon pour la croissance ?\n",
    "Votre chef a eu une idée géniale : Et si vivre dans l'hémisphere sud permettait de grandir plus (ça parait logique non vu qu'on grandit dans le même sens de la gravité ? ou pas...)\n",
    "\n",
    "A vous de vérifier cette hypothèse...\n",
    "\n",
    "Commencez par tester sur l'ensemble des planètes. Si le résultat vous parait étrange, vous pouvez explorer les populations de chaque planète pour comprendre ce qui se passe...\n"
   ]
  },
  {
   "cell_type": "markdown",
   "id": "9a3efac9-367f-4cda-be3a-29d00452d52a",
   "metadata": {},
   "source": [
    "\n",
    "### 2. Petit martien deviendra grand...\n",
    "Depuis quelques temps, les fonctionnaires des nouvelles planètes habitées se plaignent de recevoir des dotations d'uniformes qui ne sont jamais à la bonne taille.\n",
    "Y aurait-il des différences significatives de croissance à force de vivre sur une planète différente de la Terre ?\n",
    "Quelles planètes pourraient malgré tout garder les mêmes dotations que la Terre (ça coûte cher de refaire une dotation avec de nouvelles tailles...) ?"
   ]
  },
  {
   "cell_type": "markdown",
   "id": "6baf0654-2e28-420e-aec1-8f780a494b04",
   "metadata": {},
   "source": [
    "### 3. Un monde Bayesien\n",
    "\n",
    "Des images valent mieux qu'un long discours (mais on peut en discuter...)\n",
    "\n",
    "<a>\n",
    "<img src=\"https://i.imgflip.com/7gci1g.jpg\" width=40%/>\n",
    "<img src=\"https://upload.wikimedia.org/wikipedia/commons/6/60/Fda_-_inf%C3%A9rence_bay%C3%A9sienne_%28fr%29_-_Bayes_vs_Frequentist.png\" width=40%/>\n",
    "<img src=\"https://imgs.xkcd.com/comics/frequentists_vs_bayesians.png\" width=30%/>\n",
    "</a>"
   ]
  },
  {
   "cell_type": "markdown",
   "id": "98b6c931-ff39-4e35-8e44-077ffd0ac0be",
   "metadata": {},
   "source": [
    "Vous pouvez explorer ce chapitre https://jmeunierp8.github.io/ManuelJamovi/s16.html et la page wikipedia de l'inférence bayesienne https://fr.wikipedia.org/wiki/Inf%C3%A9rence_bay%C3%A9sienne pour découvrir cette autre face du monde des proba.\n",
    "\n",
    "Illustrez cette approche avec l'exemple suivant :\n",
    "\n",
    "On observe sur Terre une personne mesurant 135cm. Pensez vous que cette personne est d'origine martienne ou simplement un Terrien de petite taille ?\n",
    "Grâce à vos accès aux derniers recensements, vous savez que les Martiens sont 50 millions sur Terre et qu'il y a 10 milliards de Terriens... (pour simplifier on négligera ici la présence d'habitants en provenance d'autres planètes)."
   ]
  },
  {
   "cell_type": "markdown",
   "id": "32a60b45-e1b3-4968-a307-0f72fb098b72",
   "metadata": {},
   "source": [
    "\n",
    "### 4. Bonus du Bonus : Pour ceux qui veulent briller demain en cours de regression linéaire...\n",
    "\n",
    "On s'apprête à créer une station spatiale artificielle Aurora, située entre la Terre et Mars, à 200M de km du Soleil. La gravité artificielle sur Aurora sera de 7 $m/s^{-2}$. Sauriez vous prédire la taille moyenne des futures habitants d'Aurora ?"
   ]
  },
  {
   "cell_type": "code",
   "execution_count": null,
   "id": "1115680f-a42b-40c8-aa32-2948a0dc89c0",
   "metadata": {},
   "outputs": [],
   "source": []
  }
 ],
 "metadata": {
  "kernelspec": {
   "display_name": "Python 3 (ipykernel)",
   "language": "python",
   "name": "python3"
  },
  "language_info": {
   "codemirror_mode": {
    "name": "ipython",
    "version": 3
   },
   "file_extension": ".py",
   "mimetype": "text/x-python",
   "name": "python",
   "nbconvert_exporter": "python",
   "pygments_lexer": "ipython3",
   "version": "3.9.16"
  }
 },
 "nbformat": 4,
 "nbformat_minor": 5
}
